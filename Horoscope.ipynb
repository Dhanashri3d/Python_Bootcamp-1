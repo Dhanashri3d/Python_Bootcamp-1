{
 "cells": [
  {
   "cell_type": "code",
   "execution_count": 3,
   "metadata": {},
   "outputs": [
    {
     "name": "stdout",
     "output_type": "stream",
     "text": [
      " From all the mentioned Zodiac signs\n",
      "          1. Aries\n",
      "          2. Tauras\n",
      "          3. Gemini\n",
      "          4. Cancer\n",
      "          5. Leo\n",
      "          6. Virgo\n",
      "          7. Libra\n",
      "          8. Scorpio\n",
      "          9. Sagittarius\n",
      "          10. Capricorn\n",
      "          11. Aquarius\n",
      "          12. Pisces\n",
      "          \n",
      "Pick your sign number and Press Enter to know your future: \n",
      "5\n",
      "A bad cold or some other small ailment may trouble on and off. A family member studying out of town or abroad may become a source of worry. Impressing the interviewer will be important for the job seekers. It will be prudent to shift into the saving mode on the financial front. Achieving the impossible is in store for some on the academic front. Value of property owned by you is likely to escalate. Taking some time off for a break will act as a soothing balm to the mind.\n",
      "\n",
      "Shall we do it again?(Y/N):Y\n"
     ]
    },
    {
     "ename": "NameError",
     "evalue": "name 'Y' is not defined",
     "output_type": "error",
     "traceback": [
      "\u001b[1;31m\u001b[0m",
      "\u001b[1;31mNameError\u001b[0mTraceback (most recent call last)",
      "\u001b[1;32m<ipython-input-3-db7fe4bac6c8>\u001b[0m in \u001b[0;36m<module>\u001b[1;34m()\u001b[0m\n\u001b[0;32m     52\u001b[0m \u001b[1;33m\u001b[0m\u001b[0m\n\u001b[0;32m     53\u001b[0m \u001b[1;33m\u001b[0m\u001b[0m\n\u001b[1;32m---> 54\u001b[1;33m     \u001b[0mnext\u001b[0m \u001b[1;33m=\u001b[0m \u001b[0mTrue\u001b[0m \u001b[1;32mif\u001b[0m \u001b[0minput\u001b[0m\u001b[1;33m(\u001b[0m\u001b[1;34m\"\\nShall we do it again?(Y/N):\"\u001b[0m\u001b[1;33m)\u001b[0m\u001b[1;33m==\u001b[0m\u001b[1;34m'Y'\u001b[0m \u001b[1;32melse\u001b[0m \u001b[0mFalse\u001b[0m\u001b[1;33m\u001b[0m\u001b[0m\n\u001b[0m\u001b[0;32m     55\u001b[0m \u001b[1;33m\u001b[0m\u001b[0m\n\u001b[0;32m     56\u001b[0m \u001b[1;33m\u001b[0m\u001b[0m\n",
      "\u001b[1;32mD:\\Conda\\lib\\site-packages\\ipykernel\\ipkernel.pyc\u001b[0m in \u001b[0;36m<lambda>\u001b[1;34m(prompt)\u001b[0m\n\u001b[0;32m    174\u001b[0m             \u001b[0mself\u001b[0m\u001b[1;33m.\u001b[0m\u001b[0m_sys_eval_input\u001b[0m \u001b[1;33m=\u001b[0m \u001b[0mbuiltin_mod\u001b[0m\u001b[1;33m.\u001b[0m\u001b[0minput\u001b[0m\u001b[1;33m\u001b[0m\u001b[0m\n\u001b[0;32m    175\u001b[0m             \u001b[0mbuiltin_mod\u001b[0m\u001b[1;33m.\u001b[0m\u001b[0mraw_input\u001b[0m \u001b[1;33m=\u001b[0m \u001b[0mself\u001b[0m\u001b[1;33m.\u001b[0m\u001b[0mraw_input\u001b[0m\u001b[1;33m\u001b[0m\u001b[0m\n\u001b[1;32m--> 176\u001b[1;33m             \u001b[0mbuiltin_mod\u001b[0m\u001b[1;33m.\u001b[0m\u001b[0minput\u001b[0m \u001b[1;33m=\u001b[0m \u001b[1;32mlambda\u001b[0m \u001b[0mprompt\u001b[0m\u001b[1;33m=\u001b[0m\u001b[1;34m''\u001b[0m\u001b[1;33m:\u001b[0m \u001b[0meval\u001b[0m\u001b[1;33m(\u001b[0m\u001b[0mself\u001b[0m\u001b[1;33m.\u001b[0m\u001b[0mraw_input\u001b[0m\u001b[1;33m(\u001b[0m\u001b[0mprompt\u001b[0m\u001b[1;33m)\u001b[0m\u001b[1;33m)\u001b[0m\u001b[1;33m\u001b[0m\u001b[0m\n\u001b[0m\u001b[0;32m    177\u001b[0m         \u001b[0mself\u001b[0m\u001b[1;33m.\u001b[0m\u001b[0m_save_getpass\u001b[0m \u001b[1;33m=\u001b[0m \u001b[0mgetpass\u001b[0m\u001b[1;33m.\u001b[0m\u001b[0mgetpass\u001b[0m\u001b[1;33m\u001b[0m\u001b[0m\n\u001b[0;32m    178\u001b[0m         \u001b[0mgetpass\u001b[0m\u001b[1;33m.\u001b[0m\u001b[0mgetpass\u001b[0m \u001b[1;33m=\u001b[0m \u001b[0mself\u001b[0m\u001b[1;33m.\u001b[0m\u001b[0mgetpass\u001b[0m\u001b[1;33m\u001b[0m\u001b[0m\n",
      "\u001b[1;32mD:\\Conda\\lib\\site-packages\\ipykernel\\ipkernel.pyc\u001b[0m in \u001b[0;36m<module>\u001b[1;34m()\u001b[0m\n",
      "\u001b[1;31mNameError\u001b[0m: name 'Y' is not defined"
     ]
    }
   ],
   "source": [
    "#An application which tells future based upon the zodiac sign.\n",
    "\n",
    "\n",
    "next = True\n",
    "while next == True:\n",
    "    print(''' From all the mentioned Zodiac signs\n",
    "          1. Aries\n",
    "          2. Tauras\n",
    "          3. Gemini\n",
    "          4. Cancer\n",
    "          5. Leo\n",
    "          6. Virgo\n",
    "          7. Libra\n",
    "          8. Scorpio\n",
    "          9. Sagittarius\n",
    "          10. Capricorn\n",
    "          11. Aquarius\n",
    "          12. Pisces\n",
    "          ''')\n",
    "\n",
    "\n",
    "    s = int(input(\"Pick your sign number and Press Enter to know your future: \\n\"))\n",
    "    \n",
    "\n",
    "    if s==1:\n",
    "        print(\"Limited capital will not prove an obstacle in putting a project on the road. Support of family members is assured in whatever you undertake.There is every likelihood of bagging a prized job for those associated with the management field. Connoisseurs of good food can come across some more gastronomic delights! You are likely to get within reach of whatever you are trying to achieve on the academic front. Prepare thoroughly for a long journey to avoid hassles. Some of you may plan to buy a house or a car soon.\")\n",
    "    elif s==2:   \n",
    "        print(\"A new source of income is likely to open up and promises to make you financially secure. Fitness mantra of a friend will do wonders for your health. Happy time is foreseen at work as you tackle your job efficiently. Parents or a family member is likely to breathe down your neck and may monitor your actions closely. You will fare well on the academic front and manage to remain amongst the frontrunners. You will need to fine tune you’re travelling time with others to reach a venue together. Deal in property only with well-established dealers.\")\n",
    "    elif s==3:\n",
    "        print(\"You will need to remain guarded, as you may be taken for a ride on the monetary front. Things that were going wrong on the work front will begin to improve. Those doing their bit to shed weight will succeed beyond their expectations! Homemakers will find time to achieve much on the domestic front. Academic aspirations of those pursuing higher studies are likely to be met. Those forced to travel frequently may do right to make the journey comfortable. You may go in for purchase of a property.\")\n",
    "    elif s==4:\n",
    "        print(\"You will benefit by taking a break from your regular exercise routine. Child or sibling may make you proud by his or her achievements. It will be prudent to keep a watchful eye on a business colleague. Your financial prudence will help keep the coffers brimming. Outstanding performance can be expected by some on the academic front. You may get the chance to turn an official trip into a family vacation. Acquiring a new property is on the cards.\")\n",
    "    elif s==5:\n",
    "        print(\"A bad cold or some other small ailment may trouble on and off. A family member studying out of town or abroad may become a source of worry. Impressing the interviewer will be important for the job seekers. It will be prudent to shift into the saving mode on the financial front. Achieving the impossible is in store for some on the academic front. Value of property owned by you is likely to escalate. Taking some time off for a break will act as a soothing balm to the mind.\")\n",
    "    elif s==6:\n",
    "        print(\"An exciting time in a family gathering is foreseen. Avoid offending someone by your actions at work. Money well spent may give you inner satisfaction. Someone may extend a helping hand in making you learn new fitness techniques. You may take a step nearer to acquiring property. You are likely to hold your own in a competitive situation on the academic front. Arrange for someone to look after your assets, if you are planning to move out for a longer duration.\")\n",
    "    elif s==7:\n",
    "        print(\"Your sympathetic touch will alleviate the problems of a family elder. Consistent performance will pave the way for promotion. Try not to overstep the budget, as it may become difficult to meet unforeseen monetary requirements. Chances of leaving an exercise regime midway cannot be ruled out for some. Those pursuing higher studies have a bright chance of getting recruited on the campus. Preparation for an overseas business trip is likely to start now. Getting a lucrative offer on property is possible.\")\n",
    "    elif s==8:\n",
    "        print(\"Getting your money back from someone may require efforts, but get back, you will! Less work will enable you to take some time off for yourself. Health conscious will discover some new route to fitness. Additional domestic chores if not planned properly may leave you fatigued. Overconfidence on the academic front needs curbing, as things may not turn out the way you want them to. Young couples may enroll for an adventure trip and enjoy the thrills.\")\n",
    "    elif s==9:\n",
    "        print(\"A property issue is likely to be resolved amicably. Performing well on the academic front will not pose much difficulty for you. Less work will enable you to take some time off for yourself. Don’t let anyone bulldoze you into spending money on something that you don’t exactly need. Condition of someone close can show rapid improvement. Steer clear of spouse’s firing line, as he or she may suffer from mood swings. A good opportunity to spend some time in a tourist destination is likely to come your way.\")\n",
    "    elif s==10:\n",
    "        print(\"Something that is available on the house will help you save money. Some of you will have to adopt measures to blunt the impact of a lifestyle disease. Despite calling the shots, you may be made to toe the line in a professional situation. Today, your hands may be full catering to friends or relatives. Something that you had been trying on the academic front is likely to come within reach. Getting a house constructed or renovated is possible.\")\n",
    "    elif s==11:\n",
    "        print(\"Unnecessarily worrying about your health will serve no purpose. A difference of opinion with the elders may make you ponder about something in mind. Day appears to be especially favourable for those associated with banking or engineering. Raising capital for a commercial venture will not pose much difficulty. Chances of getting hoodwinked in a property deal look real. You may become indispensable for someone’s success on the academic front. Speed and comfort is foreseen for those undertaking a long journey.\")\n",
    "    elif s==12:\n",
    "         print(\"Watch your step on the financial front, as someone may sweet-talk you out of money. Putting off work for some other day will just not work on the professional front. Those ailing for long can expect a miraculous recovery. Your wish is likely to get fulfilled on the academic front, provided you take timely action. Expect some good loving care from spouse today! A comfortable journey to a distant place is in the offing for some. Visiting the site of your new home is possible.\")\n",
    "    else:\n",
    "        print(\"Hey, You are sure about the number?\")\n",
    "\n",
    "        \n",
    "        \n",
    "    next = True if input(\"\\nShall we do it again?(Y/N):\")==\"Y'\" else False\n",
    "\n",
    "    \n",
    "    \n",
    "    "
   ]
  },
  {
   "cell_type": "code",
   "execution_count": null,
   "metadata": {},
   "outputs": [],
   "source": []
  },
  {
   "cell_type": "code",
   "execution_count": null,
   "metadata": {},
   "outputs": [],
   "source": []
  },
  {
   "cell_type": "code",
   "execution_count": null,
   "metadata": {},
   "outputs": [],
   "source": []
  },
  {
   "cell_type": "code",
   "execution_count": null,
   "metadata": {},
   "outputs": [],
   "source": []
  },
  {
   "cell_type": "code",
   "execution_count": null,
   "metadata": {},
   "outputs": [],
   "source": []
  },
  {
   "cell_type": "code",
   "execution_count": null,
   "metadata": {},
   "outputs": [],
   "source": []
  },
  {
   "cell_type": "code",
   "execution_count": null,
   "metadata": {},
   "outputs": [],
   "source": []
  },
  {
   "cell_type": "code",
   "execution_count": null,
   "metadata": {},
   "outputs": [],
   "source": []
  },
  {
   "cell_type": "code",
   "execution_count": null,
   "metadata": {},
   "outputs": [],
   "source": []
  },
  {
   "cell_type": "code",
   "execution_count": null,
   "metadata": {},
   "outputs": [],
   "source": []
  },
  {
   "cell_type": "code",
   "execution_count": null,
   "metadata": {},
   "outputs": [],
   "source": []
  },
  {
   "cell_type": "code",
   "execution_count": null,
   "metadata": {},
   "outputs": [],
   "source": []
  },
  {
   "cell_type": "code",
   "execution_count": null,
   "metadata": {},
   "outputs": [],
   "source": []
  },
  {
   "cell_type": "code",
   "execution_count": null,
   "metadata": {},
   "outputs": [],
   "source": []
  },
  {
   "cell_type": "code",
   "execution_count": null,
   "metadata": {},
   "outputs": [],
   "source": []
  },
  {
   "cell_type": "code",
   "execution_count": null,
   "metadata": {},
   "outputs": [],
   "source": []
  },
  {
   "cell_type": "code",
   "execution_count": null,
   "metadata": {},
   "outputs": [],
   "source": []
  },
  {
   "cell_type": "code",
   "execution_count": null,
   "metadata": {},
   "outputs": [],
   "source": []
  }
 ],
 "metadata": {
  "kernelspec": {
   "display_name": "Python 2",
   "language": "python",
   "name": "python2"
  },
  "language_info": {
   "codemirror_mode": {
    "name": "ipython",
    "version": 2
   },
   "file_extension": ".py",
   "mimetype": "text/x-python",
   "name": "python",
   "nbconvert_exporter": "python",
   "pygments_lexer": "ipython2",
   "version": "2.7.16"
  }
 },
 "nbformat": 4,
 "nbformat_minor": 2
}
